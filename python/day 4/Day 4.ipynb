{
 "cells": [
  {
   "cell_type": "markdown",
   "metadata": {},
   "source": [
    "# Day 4: assignment 1"
   ]
  },
  {
   "cell_type": "code",
   "execution_count": null,
   "metadata": {},
   "outputs": [],
   "source": [
    "l = int(input(\"enter lower range: \"))\n",
    "u = int(input(\"enter upper range: \"))\n",
    "j=0\n",
    "for num in range(l,u):\n",
    "    \n",
    "    sum = 0\n",
    "    \n",
    "    temp = num\n",
    "    \n",
    "    while temp > 0:\n",
    "        digit = temp % 10\n",
    "        sum += digit ** 3\n",
    "        temp //= 10\n",
    "        \n",
    "        if num == sum:\n",
    "            \n",
    "            if (j==0):\n",
    "                print(num)\n",
    "                j=j+1\n",
    "            "
   ]
  }
 ],
 "metadata": {
  "kernelspec": {
   "display_name": "Python 3",
   "language": "python",
   "name": "python3"
  }
 },
 "nbformat": 4,
 "nbformat_minor": 4
}
