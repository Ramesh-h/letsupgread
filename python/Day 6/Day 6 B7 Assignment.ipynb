{
 "cells": [
  {
   "cell_type": "markdown",
   "metadata": {},
   "source": [
    "# Day - 6\n",
    "Assignment - 1\n",
    "Create a bank account class that has two attributes :\n",
    "\n",
    "ownerName\n",
    "balance #### and two methods :\n",
    "deposit\n",
    "withdraw #### As an added requirement, withdrawals may not exceed the available balance. Initiate your class, make several deposits and withdrawals, and test to make sure that the account can't be overdrawn"
   ]
  },
  {
   "cell_type": "code",
   "execution_count": 2,
   "metadata": {},
   "outputs": [],
   "source": [
    "class bankAccount() :\n",
    "    ownerName = \"\"\n",
    "    balance = 0\n",
    "\n",
    "    def __init__ (self, ownerName, balance):\n",
    "        self.ownerName = ownerName\n",
    "        self.balance = balance\n",
    "        print(\"Class Object initiated\")\n",
    "    \n",
    "    def deposit(self, depo):\n",
    "        self.balance = self.balance + depo\n",
    "        print(\"Your current balance is \", self.balance)\n",
    "        \n",
    "    def withdraw(self, withdraw):\n",
    "        if self.balance < withdraw :\n",
    "            print(\"You cannot withdraw your ammount\")\n",
    "        else:\n",
    "            self.balance = self.balance - withdraw\n",
    "            print(withdraw, \"is your withdraw ammount\\n Current Balance: \", self.balance)\n",
    "            \n",
    "    def showDetails(self):\n",
    "        print(\"Name: \", self.ownerName)\n",
    "        print(\"Current Balance: \", self.balance)"
   ]
  },
  {
   "cell_type": "code",
   "execution_count": 4,
   "metadata": {},
   "outputs": [
    {
     "name": "stdout",
     "output_type": "stream",
     "text": [
      "Class Object initiated\n"
     ]
    }
   ],
   "source": [
    "Bank = bankAccount(\"Yash\",100000)"
   ]
  },
  {
   "cell_type": "code",
   "execution_count": 6,
   "metadata": {},
   "outputs": [
    {
     "name": "stdout",
     "output_type": "stream",
     "text": [
      "Your current balance is  150000\n"
     ]
    }
   ],
   "source": [
    "Bank.deposit(50000)"
   ]
  },
  {
   "cell_type": "code",
   "execution_count": 7,
   "metadata": {},
   "outputs": [
    {
     "name": "stdout",
     "output_type": "stream",
     "text": [
      "25000 is your withdraw ammount\n",
      " Current Balance:  125000\n"
     ]
    }
   ],
   "source": [
    "Bank.withdraw(25000)"
   ]
  },
  {
   "cell_type": "code",
   "execution_count": 8,
   "metadata": {},
   "outputs": [
    {
     "name": "stdout",
     "output_type": "stream",
     "text": [
      "You cannot withdraw your ammount\n"
     ]
    }
   ],
   "source": [
    "Bank.withdraw(1253652)"
   ]
  },
  {
   "cell_type": "code",
   "execution_count": 9,
   "metadata": {},
   "outputs": [
    {
     "name": "stdout",
     "output_type": "stream",
     "text": [
      "Name:  Yash\n",
      "Current Balance:  125000\n"
     ]
    }
   ],
   "source": [
    "Bank.showDetails()"
   ]
  },
  {
   "cell_type": "code",
   "execution_count": 10,
   "metadata": {},
   "outputs": [
    {
     "name": "stdout",
     "output_type": "stream",
     "text": [
      "Class Object initiated\n"
     ]
    }
   ],
   "source": [
    "Bank = bankAccount(\"Deeps\",200000) "
   ]
  },
  {
   "cell_type": "code",
   "execution_count": 11,
   "metadata": {},
   "outputs": [
    {
     "name": "stdout",
     "output_type": "stream",
     "text": [
      "Name:  Deeps\n",
      "Current Balance:  200000\n"
     ]
    }
   ],
   "source": [
    "Bank.showDetails()"
   ]
  },
  {
   "cell_type": "markdown",
   "metadata": {},
   "source": [
    "# Assignment - 2\n",
    "Create a Cone class that has two attributes :\n",
    "R = Radius\n",
    "h = height #### and two methods\n",
    "Volume = πr²(h/3)\n",
    "Surface area = base : πr², side : πr*√(r²+h²) #### Make only one class with functions, as in where required import Math"
   ]
  },
  {
   "cell_type": "code",
   "execution_count": 12,
   "metadata": {},
   "outputs": [],
   "source": [
    "import math\n",
    "class cone() :\n",
    "    radius = 0\n",
    "    height = 0\n",
    "    \n",
    "    def __init__ (self, radius, height):\n",
    "        self.radius = int(radius)\n",
    "        self.height = int(height)\n",
    "        print(\"Class object initiated\")\n",
    "        \n",
    "    def vol(self,):\n",
    "        volume = math.pi*(self.radius*self.radius)*(self.height/3)\n",
    "        print(volume)\n",
    "\n",
    "    def surArea (self):\n",
    "        self.surfaceArea = 0\n",
    "        val = ((self.radius*self.radius)+(self.height*self.height))\n",
    "        base = math.pi*(self.radius*self.radius)\n",
    "        side= math.pi*self.radius*(math.sqrt(val))\n",
    "        surfaceArea = base+side\n",
    "        print(surfaceArea)"
   ]
  },
  {
   "cell_type": "code",
   "execution_count": 13,
   "metadata": {},
   "outputs": [
    {
     "name": "stdout",
     "output_type": "stream",
     "text": [
      "Class object initiated\n"
     ]
    }
   ],
   "source": [
    "a = cone(4,6)"
   ]
  },
  {
   "cell_type": "code",
   "execution_count": 14,
   "metadata": {},
   "outputs": [
    {
     "name": "stdout",
     "output_type": "stream",
     "text": [
      "100.53096491487338\n"
     ]
    }
   ],
   "source": [
    "a.vol()"
   ]
  },
  {
   "cell_type": "code",
   "execution_count": 15,
   "metadata": {},
   "outputs": [
    {
     "name": "stdout",
     "output_type": "stream",
     "text": [
      "140.8828696505485\n"
     ]
    }
   ],
   "source": [
    "a.surArea()"
   ]
  },
  {
   "cell_type": "code",
   "execution_count": null,
   "metadata": {},
   "outputs": [],
   "source": []
  }
 ],
 "metadata": {
  "kernelspec": {
   "display_name": "Python 3",
   "language": "python",
   "name": "python3"
  },
  "language_info": {
   "codemirror_mode": {
    "name": "ipython",
    "version": 3
   },
   "file_extension": ".py",
   "mimetype": "text/x-python",
   "name": "python",
   "nbconvert_exporter": "python",
   "pygments_lexer": "ipython3",
   "version": "3.8.3"
  }
 },
 "nbformat": 4,
 "nbformat_minor": 4
}
