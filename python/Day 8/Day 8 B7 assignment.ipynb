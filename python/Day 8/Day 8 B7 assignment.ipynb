{
 "cells": [
  {
   "cell_type": "markdown",
   "metadata": {},
   "source": [
    "# Day - 8\n",
    "Assignment - 1\n",
    "Write a Decorator function to take input for any kind of function you want to build.\n",
    "For example You make a Fibonacci deries function in which your input range is defined by the decorator input¶"
   ]
  },
  {
   "cell_type": "code",
   "execution_count": 1,
   "metadata": {},
   "outputs": [],
   "source": [
    "\n",
    "def fibo(arg):\n",
    "    \n",
    "    def fibo1():\n",
    "    \n",
    "        n = int(input(\"Enter any Number - \"))\n",
    "        arg(n)\n",
    "    return fibo1"
   ]
  },
  {
   "cell_type": "code",
   "execution_count": 3,
   "metadata": {},
   "outputs": [],
   "source": [
    "@fibo\n",
    "def fibonan(num):\n",
    "    fib1 = 0\n",
    "    fib2 = 1\n",
    "    print('0')\n",
    "    print('1')\n",
    "    for i in range(1,num-1):\n",
    "        fibon = fib1 + fib2\n",
    "        fib1 = fib2\n",
    "        fib2 = fibon\n",
    "        print(fibon)"
   ]
  },
  {
   "cell_type": "code",
   "execution_count": 4,
   "metadata": {},
   "outputs": [
    {
     "name": "stdout",
     "output_type": "stream",
     "text": [
      "Enter any Number - 14\n",
      "0\n",
      "1\n",
      "1\n",
      "2\n",
      "3\n",
      "5\n",
      "8\n",
      "13\n",
      "21\n",
      "34\n",
      "55\n",
      "89\n",
      "144\n",
      "233\n"
     ]
    }
   ],
   "source": [
    "fibonan()"
   ]
  },
  {
   "cell_type": "markdown",
   "metadata": {},
   "source": [
    "# Assignment - 2\n",
    "WAP a python program to open a file in read only mode and try writing something to it and handle the subsequent errors using Exception Handling"
   ]
  },
  {
   "cell_type": "code",
   "execution_count": 9,
   "metadata": {},
   "outputs": [
    {
     "name": "stdout",
     "output_type": "stream",
     "text": [
      "There was an error in the file handling \n",
      "Error was :  not writable\n",
      "This is an example of Exception Handling\n"
     ]
    }
   ],
   "source": [
    "file = open(\"yash.txt\",\"r\")\n",
    "\n",
    "try:\n",
    "    file.write(\"This is yash\")\n",
    "except Exception as e:\n",
    "    print(\"There was an error in the file handling \")\n",
    "    print(\"Error was : \", e)\n",
    "finally:\n",
    "    file.close()\n",
    "    \n",
    "print(\"This is an example of Exception Handling\")"
   ]
  },
  {
   "cell_type": "code",
   "execution_count": null,
   "metadata": {},
   "outputs": [],
   "source": []
  }
 ],
 "metadata": {
  "kernelspec": {
   "display_name": "Python 3",
   "language": "python",
   "name": "python3"
  },
  "language_info": {
   "codemirror_mode": {
    "name": "ipython",
    "version": 3
   },
   "file_extension": ".py",
   "mimetype": "text/x-python",
   "name": "python",
   "nbconvert_exporter": "python",
   "pygments_lexer": "ipython3",
   "version": "3.8.3"
  }
 },
 "nbformat": 4,
 "nbformat_minor": 4
}
